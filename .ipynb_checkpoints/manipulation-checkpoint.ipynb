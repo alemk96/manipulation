{
 "cells": [
  {
   "cell_type": "code",
   "execution_count": 1,
   "id": "92ccb861-35b1-4f22-ab00-d0fad73092a1",
   "metadata": {},
   "outputs": [],
   "source": [
    "import math"
   ]
  },
  {
   "cell_type": "code",
   "execution_count": 4,
   "id": "d59733ef-3f47-4571-869d-b4b3b5ab12dd",
   "metadata": {},
   "outputs": [
    {
     "name": "stdout",
     "output_type": "stream",
     "text": [
      "The optimal value is : 12\n"
     ]
    }
   ],
   "source": [
    "\n",
    "def minimax (curDepth, nodeIndex,\n",
    "             maxTurn, scores, \n",
    "             targetDepth):\n",
    " \n",
    "    # base case : targetDepth reached\n",
    "    if (curDepth == targetDepth): \n",
    "        return scores[nodeIndex]\n",
    "     \n",
    "    if (maxTurn):\n",
    "        return max(minimax(curDepth + 1, nodeIndex * 2, \n",
    "                    False, scores, targetDepth), \n",
    "                   minimax(curDepth + 1, nodeIndex * 2 + 1, \n",
    "                    False, scores, targetDepth))\n",
    "     \n",
    "    else:\n",
    "        return min(minimax(curDepth + 1, nodeIndex * 2, \n",
    "                     True, scores, targetDepth), \n",
    "                   minimax(curDepth + 1, nodeIndex * 2 + 1, \n",
    "                     True, scores, targetDepth))\n",
    "     \n",
    "# Driver code\n",
    "scores = [3, 5, 2, 9, 12, 5, 23, 23]\n",
    " \n",
    "treeDepth = math.log(len(scores), 2)\n",
    " \n",
    "print(\"The optimal value is : \", end = an\n",
    "print(minimax(0, 0, True, scores, treeDepth))\n",
    " "
   ]
  },
  {
   "cell_type": "code",
   "execution_count": null,
   "id": "93741694-c421-4ef5-bea7-72d3cfcde7f1",
   "metadata": {},
   "outputs": [],
   "source": []
  }
 ],
 "metadata": {
  "kernelspec": {
   "display_name": "Python 3 (ipykernel)",
   "language": "python",
   "name": "python3"
  },
  "language_info": {
   "codemirror_mode": {
    "name": "ipython",
    "version": 3
   },
   "file_extension": ".py",
   "mimetype": "text/x-python",
   "name": "python",
   "nbconvert_exporter": "python",
   "pygments_lexer": "ipython3",
   "version": "3.11.6"
  }
 },
 "nbformat": 4,
 "nbformat_minor": 5
}
